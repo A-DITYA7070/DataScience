{
 "cells": [
  {
   "cell_type": "markdown",
   "metadata": {},
   "source": [
    "Assignment 01"
   ]
  },
  {
   "cell_type": "markdown",
   "metadata": {},
   "source": []
  },
  {
   "cell_type": "markdown",
   "metadata": {},
   "source": [
    "Q.1 Explain the following with Example ?\n",
    "    a) Artificial Intelligence\n",
    "    b) Machine Learning\n",
    "    c) Deep Learning.\n",
    "\n",
    "Ans :- \n",
    "     a) Artificial Intelligence :- It is a science of developing smart machines that can think and act like human,using algorithm,data and \n",
    "                                   computational power to mimic human intelligence. A.I can be used in almost every field including Medicals,\n",
    "                                   Agriculture,Defence,Space,Construction etc, using different algorithms smart machines are built that can think\n",
    "                                   this is achieved by training the model.\n",
    "                                    \n",
    "   b) Machine Learning :- Ml is a subset of a.i that is used to build complex machine that can perform complex task with little to no human interventions, it is used in prediction, like in price prediction, recommendation systems etc.\n",
    "\n",
    "   Ex of Ml :- facial recognition, product recomendations,finanicial accuracy,social media optimisaiton, predictive analytic.\n",
    "\n",
    "c) Deep learning :- Dl is a type of ai that teaches computers to process data like the human brain. DL models can identify complex patterns in pictures,sounds,texts and other data to make accurate predictions and insights. DL is a subset of ml, which uses algos to learn from the data and make decisions. DL structures algos in layers to create an artificial neural network that can make decisions on its own."
   ]
  },
  {
   "cell_type": "markdown",
   "metadata": {},
   "source": [
    "Q 2. What is supervised learning ? list some examples ?\n",
    "ans :- In supervised learning the machine is trained on the basis of labelled data set means the input data is paired with output data and machine is trained based on that and when test data is fed to the machine the machine predicts on the basis of the training.\n",
    "This model is often used for classification, regression and object detection problem.\n",
    "\n",
    "Ex :- spam filtering, image classification,fraud detection etc."
   ]
  },
  {
   "cell_type": "markdown",
   "metadata": {},
   "source": [
    "Q3. What is unsupervised learning ? list some examples?\n",
    "\n",
    "ans :- In unsupervised learning the model is trained based on unlabelled data set means in this data set input is not mapped with the output, the goal of unsupervised learning is to discover pattern in the dataset and relation in them without any guidance.\n",
    "here the task is to cluster of group data based on some pattern,similarity or relationship.\n",
    "\n",
    "Ex:- anamoly detection, price prediction etc."
   ]
  }
 ],
 "metadata": {
  "language_info": {
   "name": "python"
  }
 },
 "nbformat": 4,
 "nbformat_minor": 2
}
